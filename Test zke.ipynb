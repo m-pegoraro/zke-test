{
 "cells": [
  {
   "cell_type": "code",
   "execution_count": 1,
   "id": "d11cd5cb",
   "metadata": {},
   "outputs": [],
   "source": [
    "import pandas as pd\n",
    "import PyPDF2\n",
    "import re"
   ]
  },
  {
   "cell_type": "code",
   "execution_count": 2,
   "id": "769a2293",
   "metadata": {},
   "outputs": [],
   "source": [
    "import os\n",
    "from imbox import Imbox\n",
    "import traceback\n",
    "\n",
    "test = False\n",
    "\n",
    "\n",
    "\n"
   ]
  },
  {
   "cell_type": "code",
   "execution_count": 3,
   "id": "ef64ed8f",
   "metadata": {},
   "outputs": [],
   "source": [
    "from os import listdir\n",
    "from os.path import isfile, join"
   ]
  },
  {
   "cell_type": "code",
   "execution_count": 6,
   "id": "d950fe21",
   "metadata": {},
   "outputs": [],
   "source": [
    "mypath = 'C:\\\\Users\\\\mpegoraro\\\\Desktop\\\\Stuff\\\\1. RSO\\\\varie\\\\zke-test\\\\Cartella ZKE'"
   ]
  },
  {
   "cell_type": "code",
   "execution_count": 7,
   "id": "3b38be97",
   "metadata": {},
   "outputs": [],
   "source": [
    "onlyfiles = [f for f in listdir(mypath) if isfile(join(mypath, f))]"
   ]
  },
  {
   "cell_type": "code",
   "execution_count": 8,
   "id": "748b3495",
   "metadata": {},
   "outputs": [
    {
     "data": {
      "text/plain": [
       "['Freno bloccato 192340 20240116 1121_i.pdf',\n",
       " 'Freno bloccato surriscaldato 192553 20240120 1251_i.pdf',\n",
       " 'Freno bloccato surriscaldato 192554 20240120 1252_i.pdf']"
      ]
     },
     "execution_count": 8,
     "metadata": {},
     "output_type": "execute_result"
    }
   ],
   "source": [
    "onlyfiles"
   ]
  },
  {
   "cell_type": "code",
   "execution_count": 9,
   "id": "e79a40f5",
   "metadata": {},
   "outputs": [],
   "source": [
    "pdfFileObj = open(mypath+'\\\\'+onlyfiles[0], 'rb')"
   ]
  },
  {
   "cell_type": "code",
   "execution_count": 10,
   "id": "b0085429",
   "metadata": {},
   "outputs": [],
   "source": [
    "# creating a pdf reader object\n",
    "pdfReader = PyPDF2.PdfReader(pdfFileObj)"
   ]
  },
  {
   "cell_type": "code",
   "execution_count": 11,
   "id": "16d986e3",
   "metadata": {},
   "outputs": [
    {
     "name": "stdout",
     "output_type": "stream",
     "text": [
      "2\n"
     ]
    }
   ],
   "source": [
    "# printing number of pages in pdf file\n",
    "print(len(pdfReader.pages))"
   ]
  },
  {
   "cell_type": "code",
   "execution_count": 12,
   "id": "9bb98013",
   "metadata": {},
   "outputs": [],
   "source": [
    "# creating a page object\n",
    "#pageObj = pdfReader.getPage(0)\n",
    "pageObj =pdfReader.pages[0]"
   ]
  },
  {
   "cell_type": "code",
   "execution_count": 13,
   "id": "d773fd8e",
   "metadata": {},
   "outputs": [
    {
     "name": "stdout",
     "output_type": "stream",
     "text": [
      "Da:  ERSTFELD IZ ZKE (I-SQU-UEW) <zke.interventionszentrum@sbb.ch>\n",
      "Inviato:  16.01.2024 11:21\n",
      "A:  BLS Operations <operations@bls.ch>,\n",
      "Ogetto:  Freno bloccato   -  40254  /  16.01.2024 / 10:36   /  Numero del dossier:   192340  /  u117706\n",
      " \n",
      "FFS SA \n",
      "Infrastruttura - sicurezza, qualità, ambiente  \n",
      "Centro d'intervento ICT  \n",
      "6472 Erstfeld\n",
      "Freno bloccato   -  40254  \n",
      "16.01.2024 / 10:36   /  Numero del dossier:    192340  /  u117706\n",
      "Informazioni sull'allarme / informazioni aggiuntive:\n",
      "L'allarme è classificato H0.\n",
      "L'irregolarità è stato risolto e il treno prosegue sotto la responsabilità dell'ITF\n",
      "Stazione d'intervento:  Visp\n",
      "Treno: 40254    Impianto: GAMS 811\n",
      "Velocità: 90 - 112 km/h\n",
      "ITF: BLSC    Corsa dei treni: GAL - ANCO\n",
      "Detaggli allarme: Freno bloccato\n",
      "Data16.01.2024 Ora10:36\n",
      "Assedalla testa 48dalla coda 65\n",
      "Veicolo\n",
      "Numero 33 85 4575 790-2 Costruzione Sgnss\n",
      "Proprietario di veicolo HUPAC Assi 45-48\n",
      "Peso a vuoto [t] 17.6 Peso del carico [t] 62.5\n",
      "Peso lordo [t] 80.1\n",
      "Codice NHM 099020/00 [56.674 t], 994100/00 Grosscontainer, beladen\n",
      "Percorso UIC 83/Domo II, 85/Basel SBB RB / Basel Bad Bf\n",
      "Stazione finale 88/Antwerpen D.S. Combinant\n",
      "Allarmi\n",
      "AsseAsse del veicolo Allarme Valore d'intervento Valore dell'allarme\n"
     ]
    }
   ],
   "source": [
    "#extracting text from page\n",
    "s = pageObj.extract_text()\n",
    "print(pageObj.extract_text())"
   ]
  },
  {
   "cell_type": "code",
   "execution_count": 14,
   "id": "9eaf62c6",
   "metadata": {},
   "outputs": [
    {
     "data": {
      "text/html": [
       "<div>\n",
       "<style scoped>\n",
       "    .dataframe tbody tr th:only-of-type {\n",
       "        vertical-align: middle;\n",
       "    }\n",
       "\n",
       "    .dataframe tbody tr th {\n",
       "        vertical-align: top;\n",
       "    }\n",
       "\n",
       "    .dataframe thead th {\n",
       "        text-align: right;\n",
       "    }\n",
       "</style>\n",
       "<table border=\"1\" class=\"dataframe\">\n",
       "  <thead>\n",
       "    <tr style=\"text-align: right;\">\n",
       "      <th></th>\n",
       "      <th>Carro</th>\n",
       "      <th>Detentore</th>\n",
       "      <th>IF</th>\n",
       "      <th>Data</th>\n",
       "      <th>Relazione ZKE</th>\n",
       "      <th>Luogo</th>\n",
       "      <th>Vel1</th>\n",
       "      <th>Vel2</th>\n",
       "    </tr>\n",
       "  </thead>\n",
       "  <tbody>\n",
       "  </tbody>\n",
       "</table>\n",
       "</div>"
      ],
      "text/plain": [
       "Empty DataFrame\n",
       "Columns: [Carro, Detentore, IF, Data, Relazione ZKE, Luogo, Vel1, Vel2]\n",
       "Index: []"
      ]
     },
     "execution_count": 14,
     "metadata": {},
     "output_type": "execute_result"
    }
   ],
   "source": [
    "df_zke = pd.DataFrame(columns=['Carro', 'Detentore', 'IF', 'Data', 'Relazione ZKE', 'Luogo', 'Vel1', 'Vel2'])\n",
    "df_zke"
   ]
  },
  {
   "cell_type": "code",
   "execution_count": 15,
   "id": "84e66353",
   "metadata": {},
   "outputs": [
    {
     "data": {
      "text/plain": [
       "'33 85 4575 790-2'"
      ]
     },
     "execution_count": 15,
     "metadata": {},
     "output_type": "execute_result"
    }
   ],
   "source": [
    "sub1 = \"Veicolo\\nNumero \"\n",
    "sub2 = \" Costruzione\"\n",
    "\n",
    "carro = ''.join(s.split(sub1)[1].split(sub2)[0])\n",
    "\n",
    "carro"
   ]
  },
  {
   "cell_type": "code",
   "execution_count": 16,
   "id": "e948e90a",
   "metadata": {},
   "outputs": [
    {
     "data": {
      "text/plain": [
       "'HUPAC'"
      ]
     },
     "execution_count": 16,
     "metadata": {},
     "output_type": "execute_result"
    }
   ],
   "source": [
    "sub1 = \"Proprietario di veicolo \"\n",
    "sub2 = \" Assi\"\n",
    "\n",
    "det = ''.join(s.split(sub1)[1].split(sub2)[0])\n",
    "\n",
    "det"
   ]
  },
  {
   "cell_type": "code",
   "execution_count": 17,
   "id": "1e2053f2",
   "metadata": {},
   "outputs": [
    {
     "data": {
      "text/plain": [
       "'BLSC '"
      ]
     },
     "execution_count": 17,
     "metadata": {},
     "output_type": "execute_result"
    }
   ],
   "source": [
    "sub1 = \"ITF: \"\n",
    "sub2 = \"Corsa dei treni:\"\n",
    "\n",
    "IF = ''.join(s.split(sub1)[1].split(sub2)[0]).replace(u'\\xa0', u'')\n",
    "\n",
    "IF"
   ]
  },
  {
   "cell_type": "code",
   "execution_count": 18,
   "id": "110c5ceb",
   "metadata": {},
   "outputs": [
    {
     "data": {
      "text/plain": [
       "'16.01.2024'"
      ]
     },
     "execution_count": 18,
     "metadata": {},
     "output_type": "execute_result"
    }
   ],
   "source": [
    "sub1 = \"Data\"\n",
    "sub2 = \" Ora\"\n",
    "\n",
    "data = ''.join(s.split(sub1)[1].split(sub2)[0])\n",
    "\n",
    "data"
   ]
  },
  {
   "cell_type": "code",
   "execution_count": 19,
   "id": "6eedfc5c",
   "metadata": {},
   "outputs": [
    {
     "data": {
      "text/plain": [
       "'GAL - ANCO'"
      ]
     },
     "execution_count": 19,
     "metadata": {},
     "output_type": "execute_result"
    }
   ],
   "source": [
    "sub1 = \"Corsa dei treni: \"\n",
    "sub2 = \"\\nDetaggli allarme\"\n",
    "\n",
    "rel = ''.join(s.split(sub1)[1].split(sub2)[0])\n",
    "\n",
    "rel"
   ]
  },
  {
   "cell_type": "code",
   "execution_count": 20,
   "id": "abd06bbd",
   "metadata": {},
   "outputs": [
    {
     "data": {
      "text/plain": [
       "'GAMS 811'"
      ]
     },
     "execution_count": 20,
     "metadata": {},
     "output_type": "execute_result"
    }
   ],
   "source": [
    "sub1 = \"Impianto: \"\n",
    "sub2 = \"\\nVelocità:\"\n",
    "\n",
    "luogo = ''.join(s.split(sub1)[1].split(sub2)[0])\n",
    "\n",
    "luogo"
   ]
  },
  {
   "cell_type": "code",
   "execution_count": 21,
   "id": "8183058e",
   "metadata": {},
   "outputs": [
    {
     "data": {
      "text/plain": [
       "90"
      ]
     },
     "execution_count": 21,
     "metadata": {},
     "output_type": "execute_result"
    }
   ],
   "source": [
    "sub1 = \"Velocità: \"\n",
    "sub2 = \" -\"\n",
    "\n",
    "vel1 = int(''.join(s.split(sub1)[1].split(sub2)[0]))\n",
    "\n",
    "vel1"
   ]
  },
  {
   "cell_type": "code",
   "execution_count": 22,
   "id": "975e951b",
   "metadata": {},
   "outputs": [
    {
     "data": {
      "text/plain": [
       "112"
      ]
     },
     "execution_count": 22,
     "metadata": {},
     "output_type": "execute_result"
    }
   ],
   "source": [
    "sub1 = str(vel1) + \" - \"\n",
    "sub2 = \"km/h\"\n",
    "\n",
    "vel2 = int(''.join(s.split(sub1)[1].split(sub2)[0]).replace(u'\\xa0', u''))\n",
    "\n",
    "vel2"
   ]
  },
  {
   "cell_type": "code",
   "execution_count": 23,
   "id": "f5447b90",
   "metadata": {},
   "outputs": [],
   "source": [
    "df_zke.loc[0, 'Carro'] = carro\n",
    "df_zke.loc[0, 'Detentore'] =det\n",
    "df_zke.loc[0, 'IF'] = IF\n",
    "df_zke.loc[0, 'Data'] = data\n",
    "df_zke.loc[0, 'Relazione ZKE'] = rel\n",
    "df_zke.loc[0, 'Luogo'] = luogo\n",
    "df_zke.loc[0, 'Vel1'] = vel1\n",
    "df_zke.loc[0, 'Vel2'] = vel2"
   ]
  },
  {
   "cell_type": "code",
   "execution_count": 24,
   "id": "da8c4d36",
   "metadata": {},
   "outputs": [
    {
     "data": {
      "text/html": [
       "<div>\n",
       "<style scoped>\n",
       "    .dataframe tbody tr th:only-of-type {\n",
       "        vertical-align: middle;\n",
       "    }\n",
       "\n",
       "    .dataframe tbody tr th {\n",
       "        vertical-align: top;\n",
       "    }\n",
       "\n",
       "    .dataframe thead th {\n",
       "        text-align: right;\n",
       "    }\n",
       "</style>\n",
       "<table border=\"1\" class=\"dataframe\">\n",
       "  <thead>\n",
       "    <tr style=\"text-align: right;\">\n",
       "      <th></th>\n",
       "      <th>Carro</th>\n",
       "      <th>Detentore</th>\n",
       "      <th>IF</th>\n",
       "      <th>Data</th>\n",
       "      <th>Relazione ZKE</th>\n",
       "      <th>Luogo</th>\n",
       "      <th>Vel1</th>\n",
       "      <th>Vel2</th>\n",
       "    </tr>\n",
       "  </thead>\n",
       "  <tbody>\n",
       "    <tr>\n",
       "      <th>0</th>\n",
       "      <td>33 85 4575 790-2</td>\n",
       "      <td>HUPAC</td>\n",
       "      <td>BLSC</td>\n",
       "      <td>16.01.2024</td>\n",
       "      <td>GAL - ANCO</td>\n",
       "      <td>GAMS 811</td>\n",
       "      <td>90</td>\n",
       "      <td>112</td>\n",
       "    </tr>\n",
       "  </tbody>\n",
       "</table>\n",
       "</div>"
      ],
      "text/plain": [
       "              Carro Detentore     IF        Data Relazione ZKE     Luogo Vel1  \\\n",
       "0  33 85 4575 790-2     HUPAC  BLSC   16.01.2024    GAL - ANCO  GAMS 811   90   \n",
       "\n",
       "  Vel2  \n",
       "0  112  "
      ]
     },
     "execution_count": 24,
     "metadata": {},
     "output_type": "execute_result"
    }
   ],
   "source": [
    "df_zke"
   ]
  },
  {
   "cell_type": "code",
   "execution_count": 25,
   "id": "19348891",
   "metadata": {},
   "outputs": [],
   "source": [
    "# creating a page object\n",
    "#pageObj = pdfReader.getPage(0)\n",
    "pageObj_1 =pdfReader.pages[1]"
   ]
  },
  {
   "cell_type": "code",
   "execution_count": 26,
   "id": "0c6e3bf1",
   "metadata": {},
   "outputs": [
    {
     "name": "stdout",
     "output_type": "stream",
     "text": [
      "48 Freno bloccato 90.0  °C 92.0  °C\n",
      "Valori misurati\n",
      "AsseHOALHOARFBOA1FBOA2Allarmi\n",
      "4520  °C16  °C24  °C76  °C\n",
      "4613  °C13  °C28  °C90  °C\n",
      "4715  °C12  °C24  °C82  °C\n",
      "4814  °C18  °C26  °C92  °CFreno bloccato\n",
      "Costatazioni\n",
      "Freno bloccato\n",
      "Perturbazioni ai freni pneumatici\n",
      "Informazioni sulla risoluzione dei problemi\n",
      "Attivazione allarme alla stazione di annuncio\n",
      "Ha avuto luogo il contatto con il macchinista\n",
      "Il freno pneumatico è stato spurgato a mano\n",
      "Prova del freno eseguita\n",
      "Prova del freno con successo\n",
      "Valori misurati in base all'orientamento del veicolo secondo RFID\n",
      "nessuna informazione\n",
      "Per richieste si prega di inviare una e-mail al zke@sbb.ch  o di telefonare al +41 51 225 47 01.\n"
     ]
    }
   ],
   "source": [
    "#extracting text from page\n",
    "s = pageObj_1.extract_text()\n",
    "print(pageObj_1.extract_text())"
   ]
  },
  {
   "cell_type": "code",
   "execution_count": 27,
   "id": "797c0a9d",
   "metadata": {},
   "outputs": [
    {
     "data": {
      "text/plain": [
       "'\\n4520  °C16  °C24  °C76  °C\\n4613  °C13  °C28  °C90  °C\\n4715  °C12  °C24  °C82  °C\\n4814  °C18  °C26  °C92  °CFreno bloccato'"
      ]
     },
     "execution_count": 27,
     "metadata": {},
     "output_type": "execute_result"
    }
   ],
   "source": [
    "sub1 = \"AsseHOALHOARFBOA1FBOA2Allarmi\"\n",
    "sub2 = \"\\nCostatazioni\"\n",
    "\n",
    "tab = ''.join(s.split(sub1)[1].split(sub2)[0]).replace(u'\\xa0', u' ')\n",
    "\n",
    "tab"
   ]
  },
  {
   "cell_type": "code",
   "execution_count": 28,
   "id": "1258b213",
   "metadata": {},
   "outputs": [
    {
     "data": {
      "text/plain": [
       "['4520  °C16  °C24  °C76  °C',\n",
       " '4613  °C13  °C28  °C90  °C',\n",
       " '4715  °C12  °C24  °C82  °C',\n",
       " '4814  °C18  °C26  °C92  °CFreno bloccato']"
      ]
     },
     "execution_count": 28,
     "metadata": {},
     "output_type": "execute_result"
    }
   ],
   "source": [
    "lst_temp = (tab.split('\\n'))\n",
    "lst_temp.pop(0)\n",
    "lst_temp"
   ]
  },
  {
   "cell_type": "code",
   "execution_count": 29,
   "id": "70b65c91",
   "metadata": {},
   "outputs": [
    {
     "data": {
      "text/plain": [
       "4"
      ]
     },
     "execution_count": 29,
     "metadata": {},
     "output_type": "execute_result"
    }
   ],
   "source": [
    "rows = len(lst_temp)\n",
    "rows"
   ]
  },
  {
   "cell_type": "code",
   "execution_count": 30,
   "id": "174ca5e9",
   "metadata": {},
   "outputs": [
    {
     "data": {
      "text/html": [
       "<div>\n",
       "<style scoped>\n",
       "    .dataframe tbody tr th:only-of-type {\n",
       "        vertical-align: middle;\n",
       "    }\n",
       "\n",
       "    .dataframe tbody tr th {\n",
       "        vertical-align: top;\n",
       "    }\n",
       "\n",
       "    .dataframe thead th {\n",
       "        text-align: right;\n",
       "    }\n",
       "</style>\n",
       "<table border=\"1\" class=\"dataframe\">\n",
       "  <thead>\n",
       "    <tr style=\"text-align: right;\">\n",
       "      <th></th>\n",
       "      <th>Carro</th>\n",
       "      <th>Detentore</th>\n",
       "      <th>IF</th>\n",
       "      <th>Data</th>\n",
       "      <th>Relazione ZKE</th>\n",
       "      <th>Luogo</th>\n",
       "      <th>Vel1</th>\n",
       "      <th>Vel2</th>\n",
       "      <th>T0</th>\n",
       "      <th>T1</th>\n",
       "      <th>T2</th>\n",
       "      <th>T3</th>\n",
       "      <th>T4</th>\n",
       "      <th>T5</th>\n",
       "      <th>T6</th>\n",
       "      <th>T7</th>\n",
       "    </tr>\n",
       "  </thead>\n",
       "  <tbody>\n",
       "    <tr>\n",
       "      <th>0</th>\n",
       "      <td>33 85 4575 790-2</td>\n",
       "      <td>HUPAC</td>\n",
       "      <td>BLSC</td>\n",
       "      <td>16.01.2024</td>\n",
       "      <td>GAL - ANCO</td>\n",
       "      <td>GAMS 811</td>\n",
       "      <td>90</td>\n",
       "      <td>112</td>\n",
       "      <td>0</td>\n",
       "      <td>0</td>\n",
       "      <td>0</td>\n",
       "      <td>0</td>\n",
       "      <td>0</td>\n",
       "      <td>0</td>\n",
       "      <td>0</td>\n",
       "      <td>0</td>\n",
       "    </tr>\n",
       "  </tbody>\n",
       "</table>\n",
       "</div>"
      ],
      "text/plain": [
       "              Carro Detentore     IF        Data Relazione ZKE     Luogo Vel1  \\\n",
       "0  33 85 4575 790-2     HUPAC  BLSC   16.01.2024    GAL - ANCO  GAMS 811   90   \n",
       "\n",
       "  Vel2  T0  T1  T2  T3  T4  T5  T6  T7  \n",
       "0  112   0   0   0   0   0   0   0   0  "
      ]
     },
     "execution_count": 30,
     "metadata": {},
     "output_type": "execute_result"
    }
   ],
   "source": [
    "for i in range(8):\n",
    "    df_zke['T'+str(i)] = 0\n",
    "    \n",
    "df_zke"
   ]
  },
  {
   "cell_type": "code",
   "execution_count": 31,
   "id": "f75fae38",
   "metadata": {},
   "outputs": [],
   "source": [
    "for i in range(rows):\n",
    "    col_name = 'T'+str(i)\n",
    "    df_zke.loc[0, col_name] = int(lst_temp[i].split(\"°C\", 3)[-1].split(\"°C\")[0])"
   ]
  },
  {
   "cell_type": "code",
   "execution_count": 32,
   "id": "b37eb6a2",
   "metadata": {},
   "outputs": [
    {
     "data": {
      "text/html": [
       "<div>\n",
       "<style scoped>\n",
       "    .dataframe tbody tr th:only-of-type {\n",
       "        vertical-align: middle;\n",
       "    }\n",
       "\n",
       "    .dataframe tbody tr th {\n",
       "        vertical-align: top;\n",
       "    }\n",
       "\n",
       "    .dataframe thead th {\n",
       "        text-align: right;\n",
       "    }\n",
       "</style>\n",
       "<table border=\"1\" class=\"dataframe\">\n",
       "  <thead>\n",
       "    <tr style=\"text-align: right;\">\n",
       "      <th></th>\n",
       "      <th>Carro</th>\n",
       "      <th>Detentore</th>\n",
       "      <th>IF</th>\n",
       "      <th>Data</th>\n",
       "      <th>Relazione ZKE</th>\n",
       "      <th>Luogo</th>\n",
       "      <th>Vel1</th>\n",
       "      <th>Vel2</th>\n",
       "      <th>T0</th>\n",
       "      <th>T1</th>\n",
       "      <th>T2</th>\n",
       "      <th>T3</th>\n",
       "      <th>T4</th>\n",
       "      <th>T5</th>\n",
       "      <th>T6</th>\n",
       "      <th>T7</th>\n",
       "    </tr>\n",
       "  </thead>\n",
       "  <tbody>\n",
       "    <tr>\n",
       "      <th>0</th>\n",
       "      <td>33 85 4575 790-2</td>\n",
       "      <td>HUPAC</td>\n",
       "      <td>BLSC</td>\n",
       "      <td>16.01.2024</td>\n",
       "      <td>GAL - ANCO</td>\n",
       "      <td>GAMS 811</td>\n",
       "      <td>90</td>\n",
       "      <td>112</td>\n",
       "      <td>76</td>\n",
       "      <td>90</td>\n",
       "      <td>82</td>\n",
       "      <td>92</td>\n",
       "      <td>0</td>\n",
       "      <td>0</td>\n",
       "      <td>0</td>\n",
       "      <td>0</td>\n",
       "    </tr>\n",
       "  </tbody>\n",
       "</table>\n",
       "</div>"
      ],
      "text/plain": [
       "              Carro Detentore     IF        Data Relazione ZKE     Luogo Vel1  \\\n",
       "0  33 85 4575 790-2     HUPAC  BLSC   16.01.2024    GAL - ANCO  GAMS 811   90   \n",
       "\n",
       "  Vel2  T0  T1  T2  T3  T4  T5  T6  T7  \n",
       "0  112  76  90  82  92   0   0   0   0  "
      ]
     },
     "execution_count": 32,
     "metadata": {},
     "output_type": "execute_result"
    }
   ],
   "source": [
    "df_zke"
   ]
  },
  {
   "cell_type": "code",
   "execution_count": 33,
   "id": "c1200065",
   "metadata": {},
   "outputs": [
    {
     "data": {
      "text/html": [
       "<div>\n",
       "<style scoped>\n",
       "    .dataframe tbody tr th:only-of-type {\n",
       "        vertical-align: middle;\n",
       "    }\n",
       "\n",
       "    .dataframe tbody tr th {\n",
       "        vertical-align: top;\n",
       "    }\n",
       "\n",
       "    .dataframe thead th {\n",
       "        text-align: right;\n",
       "    }\n",
       "</style>\n",
       "<table border=\"1\" class=\"dataframe\">\n",
       "  <thead>\n",
       "    <tr style=\"text-align: right;\">\n",
       "      <th></th>\n",
       "      <th>Carro</th>\n",
       "      <th>Detentore</th>\n",
       "      <th>IF</th>\n",
       "      <th>Data</th>\n",
       "      <th>Relazione ZKE</th>\n",
       "      <th>Luogo</th>\n",
       "      <th>Vel1</th>\n",
       "      <th>Vel2</th>\n",
       "      <th>T0</th>\n",
       "      <th>T1</th>\n",
       "      <th>T2</th>\n",
       "      <th>T3</th>\n",
       "      <th>T4</th>\n",
       "      <th>T5</th>\n",
       "      <th>T6</th>\n",
       "      <th>T7</th>\n",
       "      <th>Azione IF</th>\n",
       "    </tr>\n",
       "  </thead>\n",
       "  <tbody>\n",
       "    <tr>\n",
       "      <th>0</th>\n",
       "      <td>33 85 4575 790-2</td>\n",
       "      <td>HUPAC</td>\n",
       "      <td>BLSC</td>\n",
       "      <td>16.01.2024</td>\n",
       "      <td>GAL - ANCO</td>\n",
       "      <td>GAMS 811</td>\n",
       "      <td>90</td>\n",
       "      <td>112</td>\n",
       "      <td>76</td>\n",
       "      <td>90</td>\n",
       "      <td>82</td>\n",
       "      <td>92</td>\n",
       "      <td>0</td>\n",
       "      <td>0</td>\n",
       "      <td>0</td>\n",
       "      <td>0</td>\n",
       "      <td>rimasto in compo</td>\n",
       "    </tr>\n",
       "  </tbody>\n",
       "</table>\n",
       "</div>"
      ],
      "text/plain": [
       "              Carro Detentore     IF        Data Relazione ZKE     Luogo Vel1  \\\n",
       "0  33 85 4575 790-2     HUPAC  BLSC   16.01.2024    GAL - ANCO  GAMS 811   90   \n",
       "\n",
       "  Vel2  T0  T1  T2  T3  T4  T5  T6  T7         Azione IF  \n",
       "0  112  76  90  82  92   0   0   0   0  rimasto in compo  "
      ]
     },
     "execution_count": 33,
     "metadata": {},
     "output_type": "execute_result"
    }
   ],
   "source": [
    "df_zke['Azione IF'] = ''\n",
    "\n",
    "if 'Freno disinserito' in (pageObj_1.extract_text()):\n",
    "    df_zke['Azione IF'] = 'freno disinserito'\n",
    "else:\n",
    "    df_zke['Azione IF'] = 'rimasto in compo'\n",
    "    \n",
    "df_zke"
   ]
  },
  {
   "cell_type": "code",
   "execution_count": 34,
   "id": "81a5f108",
   "metadata": {},
   "outputs": [
    {
     "data": {
      "text/plain": [
       "['Carro',\n",
       " 'Detentore',\n",
       " 'IF',\n",
       " 'Data',\n",
       " 'Relazione ZKE',\n",
       " 'Luogo',\n",
       " 'Vel1',\n",
       " 'Vel2',\n",
       " 'T0',\n",
       " 'T1',\n",
       " 'T2',\n",
       " 'T3',\n",
       " 'T4',\n",
       " 'T5',\n",
       " 'T6',\n",
       " 'T7',\n",
       " 'Azione IF']"
      ]
     },
     "execution_count": 34,
     "metadata": {},
     "output_type": "execute_result"
    }
   ],
   "source": [
    "list(df_zke.columns)"
   ]
  },
  {
   "cell_type": "code",
   "execution_count": 35,
   "id": "7fca42c5",
   "metadata": {},
   "outputs": [],
   "source": [
    "df_zke['Da scartare (formula)'] = 0"
   ]
  },
  {
   "cell_type": "code",
   "execution_count": 36,
   "id": "7223d2bd",
   "metadata": {},
   "outputs": [],
   "source": [
    "lst_temp = ['T0','T1','T2','T3','T4','T5','T6','T7',]"
   ]
  },
  {
   "cell_type": "code",
   "execution_count": 37,
   "id": "56963db6",
   "metadata": {},
   "outputs": [
    {
     "data": {
      "text/html": [
       "<div>\n",
       "<style scoped>\n",
       "    .dataframe tbody tr th:only-of-type {\n",
       "        vertical-align: middle;\n",
       "    }\n",
       "\n",
       "    .dataframe tbody tr th {\n",
       "        vertical-align: top;\n",
       "    }\n",
       "\n",
       "    .dataframe thead th {\n",
       "        text-align: right;\n",
       "    }\n",
       "</style>\n",
       "<table border=\"1\" class=\"dataframe\">\n",
       "  <thead>\n",
       "    <tr style=\"text-align: right;\">\n",
       "      <th></th>\n",
       "      <th>Carro</th>\n",
       "      <th>Detentore</th>\n",
       "      <th>IF</th>\n",
       "      <th>Data</th>\n",
       "      <th>Relazione ZKE</th>\n",
       "      <th>Luogo</th>\n",
       "      <th>Vel1</th>\n",
       "      <th>Vel2</th>\n",
       "      <th>T0</th>\n",
       "      <th>T1</th>\n",
       "      <th>T2</th>\n",
       "      <th>T3</th>\n",
       "      <th>T4</th>\n",
       "      <th>T5</th>\n",
       "      <th>T6</th>\n",
       "      <th>T7</th>\n",
       "      <th>Azione IF</th>\n",
       "      <th>Da scartare (formula)</th>\n",
       "    </tr>\n",
       "  </thead>\n",
       "  <tbody>\n",
       "    <tr>\n",
       "      <th>0</th>\n",
       "      <td>33 85 4575 790-2</td>\n",
       "      <td>HUPAC</td>\n",
       "      <td>BLSC</td>\n",
       "      <td>16.01.2024</td>\n",
       "      <td>GAL - ANCO</td>\n",
       "      <td>GAMS 811</td>\n",
       "      <td>90</td>\n",
       "      <td>112</td>\n",
       "      <td>76</td>\n",
       "      <td>90</td>\n",
       "      <td>82</td>\n",
       "      <td>92</td>\n",
       "      <td>0</td>\n",
       "      <td>0</td>\n",
       "      <td>0</td>\n",
       "      <td>0</td>\n",
       "      <td>rimasto in compo</td>\n",
       "      <td>0</td>\n",
       "    </tr>\n",
       "  </tbody>\n",
       "</table>\n",
       "</div>"
      ],
      "text/plain": [
       "              Carro Detentore     IF        Data Relazione ZKE     Luogo Vel1  \\\n",
       "0  33 85 4575 790-2     HUPAC  BLSC   16.01.2024    GAL - ANCO  GAMS 811   90   \n",
       "\n",
       "  Vel2  T0  T1  T2  T3  T4  T5  T6  T7         Azione IF  \\\n",
       "0  112  76  90  82  92   0   0   0   0  rimasto in compo   \n",
       "\n",
       "   Da scartare (formula)  \n",
       "0                      0  "
      ]
     },
     "execution_count": 37,
     "metadata": {},
     "output_type": "execute_result"
    }
   ],
   "source": [
    "df_zke"
   ]
  },
  {
   "cell_type": "code",
   "execution_count": 38,
   "id": "142e1615",
   "metadata": {},
   "outputs": [],
   "source": [
    "for i in df_zke.index:\n",
    "    for c in lst_temp:\n",
    "        if df_zke.loc[i,c]>250 or df_zke.loc[i,'Azione IF'] == 'freno disinserito':\n",
    "            df_zke.loc[i, 'Da scartare (formula)'] = 'Da scartare'"
   ]
  },
  {
   "cell_type": "code",
   "execution_count": 39,
   "id": "654f753a",
   "metadata": {},
   "outputs": [
    {
     "data": {
      "text/html": [
       "<div>\n",
       "<style scoped>\n",
       "    .dataframe tbody tr th:only-of-type {\n",
       "        vertical-align: middle;\n",
       "    }\n",
       "\n",
       "    .dataframe tbody tr th {\n",
       "        vertical-align: top;\n",
       "    }\n",
       "\n",
       "    .dataframe thead th {\n",
       "        text-align: right;\n",
       "    }\n",
       "</style>\n",
       "<table border=\"1\" class=\"dataframe\">\n",
       "  <thead>\n",
       "    <tr style=\"text-align: right;\">\n",
       "      <th></th>\n",
       "      <th>Carro</th>\n",
       "      <th>Detentore</th>\n",
       "      <th>IF</th>\n",
       "      <th>Data</th>\n",
       "      <th>Relazione ZKE</th>\n",
       "      <th>Luogo</th>\n",
       "      <th>Vel1</th>\n",
       "      <th>Vel2</th>\n",
       "      <th>T0</th>\n",
       "      <th>T1</th>\n",
       "      <th>T2</th>\n",
       "      <th>T3</th>\n",
       "      <th>T4</th>\n",
       "      <th>T5</th>\n",
       "      <th>T6</th>\n",
       "      <th>T7</th>\n",
       "      <th>Azione IF</th>\n",
       "      <th>Da scartare (formula)</th>\n",
       "    </tr>\n",
       "  </thead>\n",
       "  <tbody>\n",
       "    <tr>\n",
       "      <th>0</th>\n",
       "      <td>33 85 4575 790-2</td>\n",
       "      <td>HUPAC</td>\n",
       "      <td>BLSC</td>\n",
       "      <td>16.01.2024</td>\n",
       "      <td>GAL - ANCO</td>\n",
       "      <td>GAMS 811</td>\n",
       "      <td>90</td>\n",
       "      <td>112</td>\n",
       "      <td>76</td>\n",
       "      <td>90</td>\n",
       "      <td>82</td>\n",
       "      <td>92</td>\n",
       "      <td>0</td>\n",
       "      <td>0</td>\n",
       "      <td>0</td>\n",
       "      <td>0</td>\n",
       "      <td>rimasto in compo</td>\n",
       "      <td>0</td>\n",
       "    </tr>\n",
       "  </tbody>\n",
       "</table>\n",
       "</div>"
      ],
      "text/plain": [
       "              Carro Detentore     IF        Data Relazione ZKE     Luogo Vel1  \\\n",
       "0  33 85 4575 790-2     HUPAC  BLSC   16.01.2024    GAL - ANCO  GAMS 811   90   \n",
       "\n",
       "  Vel2  T0  T1  T2  T3  T4  T5  T6  T7         Azione IF  \\\n",
       "0  112  76  90  82  92   0   0   0   0  rimasto in compo   \n",
       "\n",
       "   Da scartare (formula)  \n",
       "0                      0  "
      ]
     },
     "execution_count": 39,
     "metadata": {},
     "output_type": "execute_result"
    }
   ],
   "source": [
    "df_zke"
   ]
  },
  {
   "cell_type": "code",
   "execution_count": 50,
   "id": "823975d6",
   "metadata": {},
   "outputs": [],
   "source": [
    "#add the following columns to the dataframe df_zke, leave them empty: Auftrag, Carro-Data, Ripetitività, Da scartare (formula), Anno, Mese, Da scartare, Treno, DC\n",
    "\n",
    "df_zke['Auftrag'] = ''\n",
    "df_zke['Carro-Data'] = ''\n",
    "df_zke['Ripetitività'] = ''\n",
    "df_zke['Anno'] = ''\n",
    "df_zke['Mese'] = ''\n",
    "df_zke['Da scartare'] = ''\n",
    "df_zke['Treno'] = ''\n",
    "df_zke['DC'] = ''"
   ]
  },
  {
   "cell_type": "code",
   "execution_count": 51,
   "id": "08b79f1b",
   "metadata": {},
   "outputs": [
    {
     "data": {
      "text/html": [
       "<div>\n",
       "<style scoped>\n",
       "    .dataframe tbody tr th:only-of-type {\n",
       "        vertical-align: middle;\n",
       "    }\n",
       "\n",
       "    .dataframe tbody tr th {\n",
       "        vertical-align: top;\n",
       "    }\n",
       "\n",
       "    .dataframe thead th {\n",
       "        text-align: right;\n",
       "    }\n",
       "</style>\n",
       "<table border=\"1\" class=\"dataframe\">\n",
       "  <thead>\n",
       "    <tr style=\"text-align: right;\">\n",
       "      <th></th>\n",
       "      <th>Carro</th>\n",
       "      <th>Detentore</th>\n",
       "      <th>IF</th>\n",
       "      <th>Data</th>\n",
       "      <th>Relazione ZKE</th>\n",
       "      <th>Luogo</th>\n",
       "      <th>Vel1</th>\n",
       "      <th>Vel2</th>\n",
       "      <th>T0</th>\n",
       "      <th>T1</th>\n",
       "      <th>...</th>\n",
       "      <th>Azione IF</th>\n",
       "      <th>Da scartare (formula)</th>\n",
       "      <th>Auftrag</th>\n",
       "      <th>Carro-Data</th>\n",
       "      <th>Ripetitività</th>\n",
       "      <th>Anno</th>\n",
       "      <th>Mese</th>\n",
       "      <th>Da scartare</th>\n",
       "      <th>Treno</th>\n",
       "      <th>DC</th>\n",
       "    </tr>\n",
       "  </thead>\n",
       "  <tbody>\n",
       "    <tr>\n",
       "      <th>0</th>\n",
       "      <td>33 85 4575 790-2</td>\n",
       "      <td>HUPAC</td>\n",
       "      <td>BLSC</td>\n",
       "      <td>16.01.2024</td>\n",
       "      <td>GAL - ANCO</td>\n",
       "      <td>GAMS 811</td>\n",
       "      <td>90</td>\n",
       "      <td>112</td>\n",
       "      <td>76</td>\n",
       "      <td>90</td>\n",
       "      <td>...</td>\n",
       "      <td>rimasto in compo</td>\n",
       "      <td>0</td>\n",
       "      <td></td>\n",
       "      <td></td>\n",
       "      <td></td>\n",
       "      <td></td>\n",
       "      <td></td>\n",
       "      <td></td>\n",
       "      <td></td>\n",
       "      <td></td>\n",
       "    </tr>\n",
       "  </tbody>\n",
       "</table>\n",
       "<p>1 rows × 26 columns</p>\n",
       "</div>"
      ],
      "text/plain": [
       "              Carro Detentore     IF        Data Relazione ZKE     Luogo Vel1  \\\n",
       "0  33 85 4575 790-2     HUPAC  BLSC   16.01.2024    GAL - ANCO  GAMS 811   90   \n",
       "\n",
       "  Vel2  T0  T1  ...         Azione IF  Da scartare (formula)  Auftrag  \\\n",
       "0  112  76  90  ...  rimasto in compo                      0            \n",
       "\n",
       "   Carro-Data  Ripetitività  Anno Mese  Da scartare Treno DC  \n",
       "0                                                             \n",
       "\n",
       "[1 rows x 26 columns]"
      ]
     },
     "execution_count": 51,
     "metadata": {},
     "output_type": "execute_result"
    }
   ],
   "source": [
    "df_zke"
   ]
  },
  {
   "cell_type": "code",
   "execution_count": 53,
   "id": "de7b1a2a",
   "metadata": {},
   "outputs": [],
   "source": [
    "# in df_zke, column Anno, take the year from the column Data\n",
    "\n",
    "df_zke['Anno'] = df_zke['Data'].apply(lambda x: x.split('.')[-1])"
   ]
  },
  {
   "cell_type": "code",
   "execution_count": 54,
   "id": "da1dfb49",
   "metadata": {},
   "outputs": [
    {
     "data": {
      "text/html": [
       "<div>\n",
       "<style scoped>\n",
       "    .dataframe tbody tr th:only-of-type {\n",
       "        vertical-align: middle;\n",
       "    }\n",
       "\n",
       "    .dataframe tbody tr th {\n",
       "        vertical-align: top;\n",
       "    }\n",
       "\n",
       "    .dataframe thead th {\n",
       "        text-align: right;\n",
       "    }\n",
       "</style>\n",
       "<table border=\"1\" class=\"dataframe\">\n",
       "  <thead>\n",
       "    <tr style=\"text-align: right;\">\n",
       "      <th></th>\n",
       "      <th>Carro</th>\n",
       "      <th>Detentore</th>\n",
       "      <th>IF</th>\n",
       "      <th>Data</th>\n",
       "      <th>Relazione ZKE</th>\n",
       "      <th>Luogo</th>\n",
       "      <th>Vel1</th>\n",
       "      <th>Vel2</th>\n",
       "      <th>T0</th>\n",
       "      <th>T1</th>\n",
       "      <th>...</th>\n",
       "      <th>Azione IF</th>\n",
       "      <th>Da scartare (formula)</th>\n",
       "      <th>Auftrag</th>\n",
       "      <th>Carro-Data</th>\n",
       "      <th>Ripetitività</th>\n",
       "      <th>Anno</th>\n",
       "      <th>Mese</th>\n",
       "      <th>Da scartare</th>\n",
       "      <th>Treno</th>\n",
       "      <th>DC</th>\n",
       "    </tr>\n",
       "  </thead>\n",
       "  <tbody>\n",
       "    <tr>\n",
       "      <th>0</th>\n",
       "      <td>33 85 4575 790-2</td>\n",
       "      <td>HUPAC</td>\n",
       "      <td>BLSC</td>\n",
       "      <td>16.01.2024</td>\n",
       "      <td>GAL - ANCO</td>\n",
       "      <td>GAMS 811</td>\n",
       "      <td>90</td>\n",
       "      <td>112</td>\n",
       "      <td>76</td>\n",
       "      <td>90</td>\n",
       "      <td>...</td>\n",
       "      <td>rimasto in compo</td>\n",
       "      <td>0</td>\n",
       "      <td></td>\n",
       "      <td></td>\n",
       "      <td></td>\n",
       "      <td>2024</td>\n",
       "      <td></td>\n",
       "      <td></td>\n",
       "      <td></td>\n",
       "      <td></td>\n",
       "    </tr>\n",
       "  </tbody>\n",
       "</table>\n",
       "<p>1 rows × 26 columns</p>\n",
       "</div>"
      ],
      "text/plain": [
       "              Carro Detentore     IF        Data Relazione ZKE     Luogo Vel1  \\\n",
       "0  33 85 4575 790-2     HUPAC  BLSC   16.01.2024    GAL - ANCO  GAMS 811   90   \n",
       "\n",
       "  Vel2  T0  T1  ...         Azione IF  Da scartare (formula)  Auftrag  \\\n",
       "0  112  76  90  ...  rimasto in compo                      0            \n",
       "\n",
       "   Carro-Data  Ripetitività  Anno Mese  Da scartare Treno DC  \n",
       "0                            2024                             \n",
       "\n",
       "[1 rows x 26 columns]"
      ]
     },
     "execution_count": 54,
     "metadata": {},
     "output_type": "execute_result"
    }
   ],
   "source": [
    "df_zke"
   ]
  },
  {
   "cell_type": "code",
   "execution_count": 55,
   "id": "cab0620a",
   "metadata": {},
   "outputs": [
    {
     "data": {
      "text/html": [
       "<div>\n",
       "<style scoped>\n",
       "    .dataframe tbody tr th:only-of-type {\n",
       "        vertical-align: middle;\n",
       "    }\n",
       "\n",
       "    .dataframe tbody tr th {\n",
       "        vertical-align: top;\n",
       "    }\n",
       "\n",
       "    .dataframe thead th {\n",
       "        text-align: right;\n",
       "    }\n",
       "</style>\n",
       "<table border=\"1\" class=\"dataframe\">\n",
       "  <thead>\n",
       "    <tr style=\"text-align: right;\">\n",
       "      <th></th>\n",
       "      <th>Carro</th>\n",
       "      <th>Detentore</th>\n",
       "      <th>IF</th>\n",
       "      <th>Data</th>\n",
       "      <th>Relazione ZKE</th>\n",
       "      <th>Luogo</th>\n",
       "      <th>Vel1</th>\n",
       "      <th>Vel2</th>\n",
       "      <th>T0</th>\n",
       "      <th>T1</th>\n",
       "      <th>...</th>\n",
       "      <th>Azione IF</th>\n",
       "      <th>Da scartare (formula)</th>\n",
       "      <th>Auftrag</th>\n",
       "      <th>Carro-Data</th>\n",
       "      <th>Ripetitività</th>\n",
       "      <th>Anno</th>\n",
       "      <th>Mese</th>\n",
       "      <th>Da scartare</th>\n",
       "      <th>Treno</th>\n",
       "      <th>DC</th>\n",
       "    </tr>\n",
       "  </thead>\n",
       "  <tbody>\n",
       "    <tr>\n",
       "      <th>0</th>\n",
       "      <td>33 85 4575 790-2</td>\n",
       "      <td>HUPAC</td>\n",
       "      <td>BLSC</td>\n",
       "      <td>16.01.2024</td>\n",
       "      <td>GAL - ANCO</td>\n",
       "      <td>GAMS 811</td>\n",
       "      <td>90</td>\n",
       "      <td>112</td>\n",
       "      <td>76</td>\n",
       "      <td>90</td>\n",
       "      <td>...</td>\n",
       "      <td>rimasto in compo</td>\n",
       "      <td>0</td>\n",
       "      <td></td>\n",
       "      <td></td>\n",
       "      <td></td>\n",
       "      <td>2024</td>\n",
       "      <td>01</td>\n",
       "      <td></td>\n",
       "      <td></td>\n",
       "      <td></td>\n",
       "    </tr>\n",
       "  </tbody>\n",
       "</table>\n",
       "<p>1 rows × 26 columns</p>\n",
       "</div>"
      ],
      "text/plain": [
       "              Carro Detentore     IF        Data Relazione ZKE     Luogo Vel1  \\\n",
       "0  33 85 4575 790-2     HUPAC  BLSC   16.01.2024    GAL - ANCO  GAMS 811   90   \n",
       "\n",
       "  Vel2  T0  T1  ...         Azione IF  Da scartare (formula)  Auftrag  \\\n",
       "0  112  76  90  ...  rimasto in compo                      0            \n",
       "\n",
       "   Carro-Data  Ripetitività  Anno Mese  Da scartare Treno DC  \n",
       "0                            2024   01                        \n",
       "\n",
       "[1 rows x 26 columns]"
      ]
     },
     "execution_count": 55,
     "metadata": {},
     "output_type": "execute_result"
    }
   ],
   "source": [
    "# in df_zke, column Mese, take the month from the column Data\n",
    "\n",
    "df_zke['Mese'] = df_zke['Data'].apply(lambda x: x.split('.')[1])\n",
    "df_zke"
   ]
  },
  {
   "cell_type": "code",
   "execution_count": null,
   "id": "e562b043",
   "metadata": {},
   "outputs": [],
   "source": []
  }
 ],
 "metadata": {
  "kernelspec": {
   "display_name": "Python 3 (ipykernel)",
   "language": "python",
   "name": "python3"
  },
  "language_info": {
   "codemirror_mode": {
    "name": "ipython",
    "version": 3
   },
   "file_extension": ".py",
   "mimetype": "text/x-python",
   "name": "python",
   "nbconvert_exporter": "python",
   "pygments_lexer": "ipython3",
   "version": "3.9.16"
  }
 },
 "nbformat": 4,
 "nbformat_minor": 5
}
